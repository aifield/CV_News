{
  "nbformat": 4,
  "nbformat_minor": 0,
  "metadata": {
    "colab": {
      "provenance": [],
      "toc_visible": true
    },
    "kernelspec": {
      "name": "python3",
      "display_name": "Python 3"
    },
    "language_info": {
      "name": "python"
    },
    "accelerator": "GPU",
    "gpuClass": "standard"
  },
  "cells": [
    {
      "cell_type": "code",
      "source": [
        "!nvidia-smi"
      ],
      "metadata": {
        "id": "Jg81cPf0dPLp"
      },
      "execution_count": null,
      "outputs": []
    },
    {
      "cell_type": "markdown",
      "source": [
        "# 準備"
      ],
      "metadata": {
        "id": "bwcx7RzHTjkZ"
      }
    },
    {
      "cell_type": "code",
      "source": [
        "%cd /content/drive/MyDrive/yolo_practice/yolov8"
      ],
      "metadata": {
        "id": "hH4pu2uZO3h4"
      },
      "execution_count": null,
      "outputs": []
    },
    {
      "cell_type": "code",
      "execution_count": null,
      "metadata": {
        "id": "jkVjUGVMMfgj"
      },
      "outputs": [],
      "source": [
        "!pip3 install ultralytics"
      ]
    },
    {
      "cell_type": "markdown",
      "source": [
        "# Detection"
      ],
      "metadata": {
        "id": "Xa6y8PIrNx1m"
      }
    },
    {
      "cell_type": "markdown",
      "source": [
        "## train"
      ],
      "metadata": {
        "id": "Z0ijktvfNKAP"
      }
    },
    {
      "cell_type": "code",
      "source": [
        "!ls "
      ],
      "metadata": {
        "colab": {
          "base_uri": "https://localhost:8080/"
        },
        "id": "uyGXeUjeS2f-",
        "outputId": "ee405d45-49cf-4728-b08a-362fe8336a86"
      },
      "execution_count": null,
      "outputs": [
        {
          "output_type": "stream",
          "name": "stdout",
          "text": [
            "datasets  data.yaml  runs  YOLO.gslides  yolov8.ipynb  yolov8n.pt\n"
          ]
        }
      ]
    },
    {
      "cell_type": "markdown",
      "source": [
        "options  \n",
        "https://docs.ultralytics.com/cfg/"
      ],
      "metadata": {
        "id": "ZEuYNuLEXmjM"
      }
    },
    {
      "cell_type": "markdown",
      "source": [
        "yamlのパスは絶対パスで指定しないとエラーが出ることがある"
      ],
      "metadata": {
        "id": "v2f0z7Ycajo2"
      }
    },
    {
      "cell_type": "code",
      "source": [
        "!yolo detect train data=data.yaml model=yolov8s.pt epochs=100 imgsz=416 device=0 batch=96 name=person"
      ],
      "metadata": {
        "id": "s8k3tBdINI5v"
      },
      "execution_count": null,
      "outputs": []
    },
    {
      "cell_type": "code",
      "source": [
        "#52 epochs completed in 1.234 hours"
      ],
      "metadata": {
        "id": "jerTMftnywNP"
      },
      "execution_count": null,
      "outputs": []
    },
    {
      "cell_type": "markdown",
      "source": [
        "## Test"
      ],
      "metadata": {
        "id": "DX6OyG_d2Jk4"
      }
    },
    {
      "cell_type": "code",
      "source": [
        "!yolo detect val model=\"runs/detect/person4/weights/best.pt\" data=data.yaml split=test conf=0.25 iou=0.45 "
      ],
      "metadata": {
        "id": "ov0kQRcnX03n"
      },
      "execution_count": null,
      "outputs": []
    },
    {
      "cell_type": "markdown",
      "source": [
        "## Predict"
      ],
      "metadata": {
        "id": "LUp_-Y3t2Rbr"
      }
    },
    {
      "cell_type": "markdown",
      "source": [
        "save=Trueにしないと推論結果が保存されない"
      ],
      "metadata": {
        "id": "HE6ndHDD9O7a"
      }
    },
    {
      "cell_type": "markdown",
      "source": [
        "image"
      ],
      "metadata": {
        "id": "6SvAHFFv2i1s"
      }
    },
    {
      "cell_type": "code",
      "source": [
        "!yolo detect predict model=\"runs/detect/person4/weights/best.pt\" source=\"datasets/images\" conf=0.25 iou=0.45 imgsz=416 save=True"
      ],
      "metadata": {
        "id": "HVA0U2IMgn4b"
      },
      "execution_count": null,
      "outputs": []
    },
    {
      "cell_type": "code",
      "source": [
        "# hide bbox text\n",
        "!yolo detect predict model=\"runs/detect/person4/weights/best.pt\" source=\"datasets/images\" conf=0.25 iou=0.45 hide_labels=True hide_conf=True save=True"
      ],
      "metadata": {
        "id": "lHYKw6KK2hUa"
      },
      "execution_count": null,
      "outputs": []
    },
    {
      "cell_type": "markdown",
      "source": [
        "video"
      ],
      "metadata": {
        "id": "5DYSixU22kA2"
      }
    },
    {
      "cell_type": "code",
      "source": [
        "!yolo detect predict model=\"runs/detect/person4/weights/best.pt\" source=\"datasets/movie\" conf=0.25 iou=0.45 save=True"
      ],
      "metadata": {
        "id": "rSlwycAt2k2E"
      },
      "execution_count": null,
      "outputs": []
    },
    {
      "cell_type": "code",
      "source": [
        "# 300フレーム間隔で推論\n",
        "!yolo detect predict model=\"runs/detect/person4/weights/best.pt\" source=\"datasets/movie\" conf=0.25 iou=0.45 save=True vid_stride=300"
      ],
      "metadata": {
        "id": "43ETU7D75TLG"
      },
      "execution_count": null,
      "outputs": []
    },
    {
      "cell_type": "code",
      "source": [
        "# 300フレーム間隔で推論してCROP\n",
        "!yolo detect predict model=\"runs/detect/person4/weights/best.pt\" source=\"datasets/movie\" conf=0.25 iou=0.45 save=True vid_stride=300 save_crop"
      ],
      "metadata": {
        "id": "H2NOR2Be-JaW"
      },
      "execution_count": null,
      "outputs": []
    },
    {
      "cell_type": "markdown",
      "source": [
        "# Classification"
      ],
      "metadata": {
        "id": "d4bJ15GnPjec"
      }
    },
    {
      "cell_type": "markdown",
      "source": [
        "## Train"
      ],
      "metadata": {
        "id": "hTIFQBceTdun"
      }
    },
    {
      "cell_type": "code",
      "source": [
        "!ls /content/drive/MyDrive/yolo_practice/yolov8/datasets/flowers"
      ],
      "metadata": {
        "colab": {
          "base_uri": "https://localhost:8080/"
        },
        "id": "bQKnzuOB3b8x",
        "outputId": "ccb3b1cf-34f6-4d48-e786-0df1e16b950d"
      },
      "execution_count": null,
      "outputs": [
        {
          "output_type": "stream",
          "name": "stdout",
          "text": [
            "test  train  val\n"
          ]
        }
      ]
    },
    {
      "cell_type": "code",
      "source": [
        "dataset_path = \"/content/drive/MyDrive/yolo_practice/yolov8/datasets/flowers\"\n",
        "!yolo classify train data={dataset_path} model=yolov8s-cls.pt epochs=100 imgsz=416 batch=96 device=0 name=flower"
      ],
      "metadata": {
        "id": "TieQ0_fy-q4p"
      },
      "execution_count": null,
      "outputs": []
    },
    {
      "cell_type": "markdown",
      "source": [
        "## Test"
      ],
      "metadata": {
        "id": "zpdxcscIXLi4"
      }
    },
    {
      "cell_type": "code",
      "source": [
        "!yolo classify val model=\"runs/classify/flower3/weights/best.pt\" data={dataset_path} imgsz=416"
      ],
      "metadata": {
        "id": "pyY3cGBzT2qo"
      },
      "execution_count": null,
      "outputs": []
    },
    {
      "cell_type": "code",
      "source": [
        "dataset_path = \"/content/drive/MyDrive/yolo_practice/yolov8/datasets/flowers\"\n",
        "!yolo classify val model=\"runs/classify/flower3/weights/best.pt\" data={dataset_path} imgsz=416 split=val"
      ],
      "metadata": {
        "id": "CdqfEMfKdCd0"
      },
      "execution_count": null,
      "outputs": []
    },
    {
      "cell_type": "markdown",
      "source": [
        "## Predict"
      ],
      "metadata": {
        "id": "HJBHR5-dkpNd"
      }
    },
    {
      "cell_type": "code",
      "source": [
        "!yolo classify predict model=\"runs/classify/flower3/weights/best.pt\" source=\"datasets/flowers_sample\" imgsz=416 save=True"
      ],
      "metadata": {
        "id": "hSJIKw3nitaO"
      },
      "execution_count": null,
      "outputs": []
    },
    {
      "cell_type": "markdown",
      "source": [
        "# Segmentation"
      ],
      "metadata": {
        "id": "rXf-CRnm-6jN"
      }
    },
    {
      "cell_type": "markdown",
      "source": [
        "## Train"
      ],
      "metadata": {
        "id": "jNQ97QdK-9FD"
      }
    },
    {
      "cell_type": "code",
      "source": [
        "!yolo segment train data=coco128-seg.yaml model=yolov8s-seg.pt epochs=100 imgsz=416 batch=16 device=0 name=coco128"
      ],
      "metadata": {
        "id": "owTe6NbI-8Rf"
      },
      "execution_count": null,
      "outputs": []
    },
    {
      "cell_type": "markdown",
      "source": [
        "## Test"
      ],
      "metadata": {
        "id": "juSIoMVmBfz0"
      }
    },
    {
      "cell_type": "code",
      "source": [
        "!yolo segment val model=yolov8s-seg.pt data=coco128-seg.yaml split=test conf=0.25 iou=0.45"
      ],
      "metadata": {
        "id": "xgIHjJQZAqO0"
      },
      "execution_count": null,
      "outputs": []
    },
    {
      "cell_type": "markdown",
      "source": [
        "## Predict"
      ],
      "metadata": {
        "id": "0zFXHBBDJW_Z"
      }
    },
    {
      "cell_type": "code",
      "source": [
        "!yolo segment predict model=yolov8s-seg.pt source=\"datasets/images\" conf=0.25 iou=0.45 save=True"
      ],
      "metadata": {
        "id": "E6OIO6axDJ2g"
      },
      "execution_count": null,
      "outputs": []
    },
    {
      "cell_type": "code",
      "source": [
        "# boxes=False\n",
        "!yolo segment predict model=yolov8s-seg.pt source=\"datasets/images\" conf=0.25 iou=0.45 save=True boxes=False"
      ],
      "metadata": {
        "id": "w11fWlE9JRdE"
      },
      "execution_count": null,
      "outputs": []
    },
    {
      "cell_type": "code",
      "source": [
        "# save_txt=True\n",
        "!yolo segment predict model=yolov8s-seg.pt source=\"datasets/images\" conf=0.25 iou=0.45 save=True save_txt=True"
      ],
      "metadata": {
        "id": "5ljnkcfQDqdJ"
      },
      "execution_count": null,
      "outputs": []
    },
    {
      "cell_type": "code",
      "source": [],
      "metadata": {
        "id": "Fm_6fq5rEB6H"
      },
      "execution_count": null,
      "outputs": []
    }
  ]
}